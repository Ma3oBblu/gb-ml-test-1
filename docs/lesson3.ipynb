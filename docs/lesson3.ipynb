{
 "nbformat": 4,
 "nbformat_minor": 0,
 "metadata": {
  "colab": {
   "name": "Матстат - Урок 3.ipynb",
   "provenance": [],
   "collapsed_sections": []
  },
  "kernelspec": {
   "display_name": "Python 3",
   "language": "python",
   "name": "python3"
  }
 },
 "cells": [
  {
   "cell_type": "markdown",
   "metadata": {
    "id": "snzQ6I-GNKuz"
   },
   "source": [
    "## Урок 3"
   ]
  },
  {
   "cell_type": "markdown",
   "metadata": {
    "id": "AbhQJaRUNKu7"
   },
   "source": [
    "### Описательная статистика. Качественные и количественные характеристики популяции. \n",
    "\n",
    "### Графическое представление данных"
   ]
  },
  {
   "cell_type": "markdown",
   "metadata": {
    "id": "eoIjKvLSNKu-"
   },
   "source": [
    "Рассмотрим описательные статистические характеристики на примере датасета с данными по хоккеистам.\n",
    "\n",
    "Воспользуемся данными, приведенными в статье \n",
    "<a href='https://habr.com/post/301340/'>«Рост хоккеистов: анализируем данные всех чемпионатов мира в текущем веке»</a>.\n",
    "\n",
    "Импортируем библиотеки и загрузим данные:"
   ]
  },
  {
   "cell_type": "code",
   "metadata": {
    "id": "MPDgZjuQNKvB"
   },
   "source": [
    "import numpy as np\n",
    "import pandas as pd\n",
    "import matplotlib.pyplot as plt\n",
    "import warnings\n",
    "warnings.filterwarnings('ignore')"
   ],
   "execution_count": 1,
   "outputs": []
  },
  {
   "cell_type": "code",
   "metadata": {
    "id": "MM9S4bbbNKvO"
   },
   "source": [
    "df = pd.read_csv('csv/hockey_players.csv', encoding='cp1251', parse_dates=['birth'])"
   ],
   "execution_count": 2,
   "outputs": [
    {
     "ename": "FileNotFoundError",
     "evalue": "[Errno 2] No such file or directory: 'csv/hockey_players.csv'",
     "output_type": "error",
     "traceback": [
      "\u001B[0;31m---------------------------------------------------------------------------\u001B[0m",
      "\u001B[0;31mFileNotFoundError\u001B[0m                         Traceback (most recent call last)",
      "\u001B[0;32m<ipython-input-2-05e84cfd9a1f>\u001B[0m in \u001B[0;36m<module>\u001B[0;34m\u001B[0m\n\u001B[0;32m----> 1\u001B[0;31m \u001B[0mdf\u001B[0m \u001B[0;34m=\u001B[0m \u001B[0mpd\u001B[0m\u001B[0;34m.\u001B[0m\u001B[0mread_csv\u001B[0m\u001B[0;34m(\u001B[0m\u001B[0;34m'csv/hockey_players.csv'\u001B[0m\u001B[0;34m,\u001B[0m \u001B[0mencoding\u001B[0m\u001B[0;34m=\u001B[0m\u001B[0;34m'cp1251'\u001B[0m\u001B[0;34m,\u001B[0m \u001B[0mparse_dates\u001B[0m\u001B[0;34m=\u001B[0m\u001B[0;34m[\u001B[0m\u001B[0;34m'birth'\u001B[0m\u001B[0;34m]\u001B[0m\u001B[0;34m)\u001B[0m\u001B[0;34m\u001B[0m\u001B[0;34m\u001B[0m\u001B[0m\n\u001B[0m\u001B[1;32m      2\u001B[0m \u001B[0;34m\u001B[0m\u001B[0m\n",
      "\u001B[0;32m~/.pyenv/versions/3.9.0/lib/python3.9/site-packages/pandas/io/parsers.py\u001B[0m in \u001B[0;36mread_csv\u001B[0;34m(filepath_or_buffer, sep, delimiter, header, names, index_col, usecols, squeeze, prefix, mangle_dupe_cols, dtype, engine, converters, true_values, false_values, skipinitialspace, skiprows, skipfooter, nrows, na_values, keep_default_na, na_filter, verbose, skip_blank_lines, parse_dates, infer_datetime_format, keep_date_col, date_parser, dayfirst, cache_dates, iterator, chunksize, compression, thousands, decimal, lineterminator, quotechar, quoting, doublequote, escapechar, comment, encoding, dialect, error_bad_lines, warn_bad_lines, delim_whitespace, low_memory, memory_map, float_precision)\u001B[0m\n\u001B[1;32m    686\u001B[0m     )\n\u001B[1;32m    687\u001B[0m \u001B[0;34m\u001B[0m\u001B[0m\n\u001B[0;32m--> 688\u001B[0;31m     \u001B[0;32mreturn\u001B[0m \u001B[0m_read\u001B[0m\u001B[0;34m(\u001B[0m\u001B[0mfilepath_or_buffer\u001B[0m\u001B[0;34m,\u001B[0m \u001B[0mkwds\u001B[0m\u001B[0;34m)\u001B[0m\u001B[0;34m\u001B[0m\u001B[0;34m\u001B[0m\u001B[0m\n\u001B[0m\u001B[1;32m    689\u001B[0m \u001B[0;34m\u001B[0m\u001B[0m\n\u001B[1;32m    690\u001B[0m \u001B[0;34m\u001B[0m\u001B[0m\n",
      "\u001B[0;32m~/.pyenv/versions/3.9.0/lib/python3.9/site-packages/pandas/io/parsers.py\u001B[0m in \u001B[0;36m_read\u001B[0;34m(filepath_or_buffer, kwds)\u001B[0m\n\u001B[1;32m    452\u001B[0m \u001B[0;34m\u001B[0m\u001B[0m\n\u001B[1;32m    453\u001B[0m     \u001B[0;31m# Create the parser.\u001B[0m\u001B[0;34m\u001B[0m\u001B[0;34m\u001B[0m\u001B[0;34m\u001B[0m\u001B[0m\n\u001B[0;32m--> 454\u001B[0;31m     \u001B[0mparser\u001B[0m \u001B[0;34m=\u001B[0m \u001B[0mTextFileReader\u001B[0m\u001B[0;34m(\u001B[0m\u001B[0mfp_or_buf\u001B[0m\u001B[0;34m,\u001B[0m \u001B[0;34m**\u001B[0m\u001B[0mkwds\u001B[0m\u001B[0;34m)\u001B[0m\u001B[0;34m\u001B[0m\u001B[0;34m\u001B[0m\u001B[0m\n\u001B[0m\u001B[1;32m    455\u001B[0m \u001B[0;34m\u001B[0m\u001B[0m\n\u001B[1;32m    456\u001B[0m     \u001B[0;32mif\u001B[0m \u001B[0mchunksize\u001B[0m \u001B[0;32mor\u001B[0m \u001B[0miterator\u001B[0m\u001B[0;34m:\u001B[0m\u001B[0;34m\u001B[0m\u001B[0;34m\u001B[0m\u001B[0m\n",
      "\u001B[0;32m~/.pyenv/versions/3.9.0/lib/python3.9/site-packages/pandas/io/parsers.py\u001B[0m in \u001B[0;36m__init__\u001B[0;34m(self, f, engine, **kwds)\u001B[0m\n\u001B[1;32m    946\u001B[0m             \u001B[0mself\u001B[0m\u001B[0;34m.\u001B[0m\u001B[0moptions\u001B[0m\u001B[0;34m[\u001B[0m\u001B[0;34m\"has_index_names\"\u001B[0m\u001B[0;34m]\u001B[0m \u001B[0;34m=\u001B[0m \u001B[0mkwds\u001B[0m\u001B[0;34m[\u001B[0m\u001B[0;34m\"has_index_names\"\u001B[0m\u001B[0;34m]\u001B[0m\u001B[0;34m\u001B[0m\u001B[0;34m\u001B[0m\u001B[0m\n\u001B[1;32m    947\u001B[0m \u001B[0;34m\u001B[0m\u001B[0m\n\u001B[0;32m--> 948\u001B[0;31m         \u001B[0mself\u001B[0m\u001B[0;34m.\u001B[0m\u001B[0m_make_engine\u001B[0m\u001B[0;34m(\u001B[0m\u001B[0mself\u001B[0m\u001B[0;34m.\u001B[0m\u001B[0mengine\u001B[0m\u001B[0;34m)\u001B[0m\u001B[0;34m\u001B[0m\u001B[0;34m\u001B[0m\u001B[0m\n\u001B[0m\u001B[1;32m    949\u001B[0m \u001B[0;34m\u001B[0m\u001B[0m\n\u001B[1;32m    950\u001B[0m     \u001B[0;32mdef\u001B[0m \u001B[0mclose\u001B[0m\u001B[0;34m(\u001B[0m\u001B[0mself\u001B[0m\u001B[0;34m)\u001B[0m\u001B[0;34m:\u001B[0m\u001B[0;34m\u001B[0m\u001B[0;34m\u001B[0m\u001B[0m\n",
      "\u001B[0;32m~/.pyenv/versions/3.9.0/lib/python3.9/site-packages/pandas/io/parsers.py\u001B[0m in \u001B[0;36m_make_engine\u001B[0;34m(self, engine)\u001B[0m\n\u001B[1;32m   1178\u001B[0m     \u001B[0;32mdef\u001B[0m \u001B[0m_make_engine\u001B[0m\u001B[0;34m(\u001B[0m\u001B[0mself\u001B[0m\u001B[0;34m,\u001B[0m \u001B[0mengine\u001B[0m\u001B[0;34m=\u001B[0m\u001B[0;34m\"c\"\u001B[0m\u001B[0;34m)\u001B[0m\u001B[0;34m:\u001B[0m\u001B[0;34m\u001B[0m\u001B[0;34m\u001B[0m\u001B[0m\n\u001B[1;32m   1179\u001B[0m         \u001B[0;32mif\u001B[0m \u001B[0mengine\u001B[0m \u001B[0;34m==\u001B[0m \u001B[0;34m\"c\"\u001B[0m\u001B[0;34m:\u001B[0m\u001B[0;34m\u001B[0m\u001B[0;34m\u001B[0m\u001B[0m\n\u001B[0;32m-> 1180\u001B[0;31m             \u001B[0mself\u001B[0m\u001B[0;34m.\u001B[0m\u001B[0m_engine\u001B[0m \u001B[0;34m=\u001B[0m \u001B[0mCParserWrapper\u001B[0m\u001B[0;34m(\u001B[0m\u001B[0mself\u001B[0m\u001B[0;34m.\u001B[0m\u001B[0mf\u001B[0m\u001B[0;34m,\u001B[0m \u001B[0;34m**\u001B[0m\u001B[0mself\u001B[0m\u001B[0;34m.\u001B[0m\u001B[0moptions\u001B[0m\u001B[0;34m)\u001B[0m\u001B[0;34m\u001B[0m\u001B[0;34m\u001B[0m\u001B[0m\n\u001B[0m\u001B[1;32m   1181\u001B[0m         \u001B[0;32melse\u001B[0m\u001B[0;34m:\u001B[0m\u001B[0;34m\u001B[0m\u001B[0;34m\u001B[0m\u001B[0m\n\u001B[1;32m   1182\u001B[0m             \u001B[0;32mif\u001B[0m \u001B[0mengine\u001B[0m \u001B[0;34m==\u001B[0m \u001B[0;34m\"python\"\u001B[0m\u001B[0;34m:\u001B[0m\u001B[0;34m\u001B[0m\u001B[0;34m\u001B[0m\u001B[0m\n",
      "\u001B[0;32m~/.pyenv/versions/3.9.0/lib/python3.9/site-packages/pandas/io/parsers.py\u001B[0m in \u001B[0;36m__init__\u001B[0;34m(self, src, **kwds)\u001B[0m\n\u001B[1;32m   1991\u001B[0m         \u001B[0;32mif\u001B[0m \u001B[0mkwds\u001B[0m\u001B[0;34m.\u001B[0m\u001B[0mget\u001B[0m\u001B[0;34m(\u001B[0m\u001B[0;34m\"compression\"\u001B[0m\u001B[0;34m)\u001B[0m \u001B[0;32mis\u001B[0m \u001B[0;32mNone\u001B[0m \u001B[0;32mand\u001B[0m \u001B[0mencoding\u001B[0m\u001B[0;34m:\u001B[0m\u001B[0;34m\u001B[0m\u001B[0;34m\u001B[0m\u001B[0m\n\u001B[1;32m   1992\u001B[0m             \u001B[0;32mif\u001B[0m \u001B[0misinstance\u001B[0m\u001B[0;34m(\u001B[0m\u001B[0msrc\u001B[0m\u001B[0;34m,\u001B[0m \u001B[0mstr\u001B[0m\u001B[0;34m)\u001B[0m\u001B[0;34m:\u001B[0m\u001B[0;34m\u001B[0m\u001B[0;34m\u001B[0m\u001B[0m\n\u001B[0;32m-> 1993\u001B[0;31m                 \u001B[0msrc\u001B[0m \u001B[0;34m=\u001B[0m \u001B[0mopen\u001B[0m\u001B[0;34m(\u001B[0m\u001B[0msrc\u001B[0m\u001B[0;34m,\u001B[0m \u001B[0;34m\"rb\"\u001B[0m\u001B[0;34m)\u001B[0m\u001B[0;34m\u001B[0m\u001B[0;34m\u001B[0m\u001B[0m\n\u001B[0m\u001B[1;32m   1994\u001B[0m                 \u001B[0mself\u001B[0m\u001B[0;34m.\u001B[0m\u001B[0mhandles\u001B[0m\u001B[0;34m.\u001B[0m\u001B[0mappend\u001B[0m\u001B[0;34m(\u001B[0m\u001B[0msrc\u001B[0m\u001B[0;34m)\u001B[0m\u001B[0;34m\u001B[0m\u001B[0;34m\u001B[0m\u001B[0m\n\u001B[1;32m   1995\u001B[0m \u001B[0;34m\u001B[0m\u001B[0m\n",
      "\u001B[0;31mFileNotFoundError\u001B[0m: [Errno 2] No such file or directory: 'csv/hockey_players.csv'"
     ]
    }
   ]
  },
  {
   "cell_type": "markdown",
   "metadata": {
    "collapsed": true,
    "id": "pIK_WLKxNKvU"
   },
   "source": [
    "Удалим дубликаты:"
   ]
  },
  {
   "cell_type": "code",
   "metadata": {
    "id": "z6-tGI8sNKvX"
   },
   "source": [
    "df = df.drop_duplicates(['name', 'birth'])"
   ],
   "execution_count": null,
   "outputs": []
  },
  {
   "cell_type": "markdown",
   "metadata": {
    "collapsed": true,
    "id": "XHQWUbRsNKvh"
   },
   "source": [
    "Данный датасет мог бы считаться **генеральной совокупностью**, если бы он содержал данные обо всех хоккеистах, \n",
    "\n",
    "соответствующих определенным характеристикам."
   ]
  },
  {
   "cell_type": "markdown",
   "metadata": {
    "id": "rnJWY6-KNKvj"
   },
   "source": [
    "Если мы выберем случайным образом определенное количество примеров (наблюдений), такое множество можно называть выборкой.\n",
    "\n",
    "**Выборка** — это случайным образом выбранная часть генеральной совокупности."
   ]
  },
  {
   "cell_type": "markdown",
   "metadata": {
    "id": "4rM_9Cz_NKvm"
   },
   "source": [
    "Одно из основных понятий в теории вероятностей — **математическое ожидание**. Обозначается как $M(X)$ (в статистике принято обозначение $\\mu$).\n",
    "\n",
    "Математическое ожидание — среднее значение случайной величины (распределение вероятностей стационарной случайной величины) при стремлении количества выборок или количества измерений (иногда говорят — количества испытаний) к бесконечности."
   ]
  },
  {
   "cell_type": "markdown",
   "metadata": {
    "id": "GsitNS2_NKvp"
   },
   "source": [
    "Среднее арифметическое одномерной случайной величины конечного числа испытаний обычно называют оценкой математического ожидания. При стремлении числа испытаний стационарного случайного процесса к бесконечности оценка математического ожидания стремится к математическому ожиданию."
   ]
  },
  {
   "cell_type": "markdown",
   "metadata": {
    "id": "v9b2wxzGNKvu"
   },
   "source": [
    "Найдем среднее значение роста хоккеистов из датасета по формуле:"
   ]
  },
  {
   "cell_type": "markdown",
   "metadata": {
    "id": "xvSB9hufNKvw"
   },
   "source": [
    "$$M(X) = \\frac{1}{n} \\sum\\limits_{i=1}^{n} x_i$$"
   ]
  },
  {
   "cell_type": "markdown",
   "metadata": {
    "id": "MJ0J2HMTNKvy"
   },
   "source": [
    "где $x$ — рост, $n$ — количество наблюдений."
   ]
  },
  {
   "cell_type": "code",
   "metadata": {
    "id": "8yLDxwZINKv0",
    "outputId": "0155a822-b490-4a6b-e2f7-1f541b92c7a2"
   },
   "source": [
    "mean_height = df['height'].sum() / df['height'].count()\n",
    "mean_height"
   ],
   "execution_count": null,
   "outputs": []
  },
  {
   "cell_type": "markdown",
   "metadata": {
    "id": "apehcU5jNKwF"
   },
   "source": [
    "Найдем эту же величину с помощью метода **mean**:"
   ]
  },
  {
   "cell_type": "code",
   "metadata": {
    "id": "4tPnNQLtNKwJ",
    "outputId": "ac803f70-298f-420a-9402-0f40fc385e52"
   },
   "source": [
    "df['height'].mean()"
   ],
   "execution_count": null,
   "outputs": []
  },
  {
   "cell_type": "markdown",
   "metadata": {
    "id": "3gX4sPrGNKwU"
   },
   "source": [
    "Полученные значения равны (отличается только количество знаков после запятой). Такая оценка математического ожидания называется несмещенной.\n",
    "\n",
    "Другим важным показателем выборки является **среднее квадратичное отклонение**. Оно показывает, насколько далеко наблюдения могут быть «разбросаны» относительно среднего значения.\n",
    "\n",
    "Вычислить его можно по формуле:"
   ]
  },
  {
   "cell_type": "markdown",
   "metadata": {
    "id": "JwStBGB4NKwX"
   },
   "source": [
    "$$\\sigma = \\sqrt{\\frac{\\sum\\limits_{i=1}^{n} (x_i - \\overline{x})^2}{n}}$$"
   ]
  },
  {
   "cell_type": "markdown",
   "metadata": {
    "id": "fu2lLu41NKwY"
   },
   "source": [
    "Посчитаем среднее квадратичное отклонение роста хоккеистов:"
   ]
  },
  {
   "cell_type": "code",
   "metadata": {
    "id": "-iwdVe-hNKwe",
    "outputId": "cee32cc3-f0fc-46c6-f107-04db37e290e1"
   },
   "source": [
    "height_std = np.sqrt(((df['height'] - df['height'].mean())**2).sum() / df['height'].count())\n",
    "height_std"
   ],
   "execution_count": null,
   "outputs": []
  },
  {
   "cell_type": "markdown",
   "metadata": {
    "id": "PcpU5rPFNKwm"
   },
   "source": [
    "Посчитаем еще раз среднее квадратичное отклонение, но уже с помощью метода **std**:"
   ]
  },
  {
   "cell_type": "code",
   "metadata": {
    "id": "3FvEacT6NKwo",
    "outputId": "9b2e88aa-63a2-4ca0-9dae-aa88bd688c14"
   },
   "source": [
    "df['height'].std(ddof=0)"
   ],
   "execution_count": null,
   "outputs": []
  },
  {
   "cell_type": "markdown",
   "metadata": {
    "id": "yzTtgYY0NKwz"
   },
   "source": [
    "**Дисперсия** равна среднему квадратичному отклонению, возведенному в квадрат:"
   ]
  },
  {
   "cell_type": "markdown",
   "metadata": {
    "id": "ymzeeF4QNKw1"
   },
   "source": [
    "$$\\sigma^2 = \\frac{\\sum\\limits_{i=1}^{n} (x_i - \\overline{x})^2}{n}$$"
   ]
  },
  {
   "cell_type": "markdown",
   "metadata": {
    "id": "XTwVZI76NKw3"
   },
   "source": [
    "Посчитаем дисперсию роста хоккеистов:"
   ]
  },
  {
   "cell_type": "code",
   "metadata": {
    "id": "jNZh3cbjNKw6",
    "outputId": "c0047472-442e-4426-c936-d542c79b2084"
   },
   "source": [
    "height_variance = ((df['height'] - df['height'].mean())**2).sum() / df['height'].count()\n",
    "height_variance"
   ],
   "execution_count": null,
   "outputs": []
  },
  {
   "cell_type": "markdown",
   "metadata": {
    "id": "fCHu_z21NKxG"
   },
   "source": [
    "Такая оценка дисперсии является **смещенной**. Следующая формула показывает, как вычисляется **несмещенная оценка дисперсии**:"
   ]
  },
  {
   "cell_type": "markdown",
   "metadata": {
    "id": "yeHRCSngNKxH"
   },
   "source": [
    "$$\\sigma^2_{несмещ.} = \\frac{\\sum\\limits_{i=1}^{n} (x_i - \\overline{x})^2}{n - 1}$$"
   ]
  },
  {
   "cell_type": "markdown",
   "metadata": {
    "id": "QTIjmFNyNKxM"
   },
   "source": [
    "Отличие несмещенной оценки дисперсии от смещенной в том, что мы делим сумму квадратов разностей всех величин со средним значением не на $n$, а на $n - 1$.\n",
    "\n",
    "Рассчитаем несмещенную дисперсию роста хоккеистов:"
   ]
  },
  {
   "cell_type": "code",
   "metadata": {
    "id": "WyB-XRAeNKxQ",
    "outputId": "c3941a40-3ecc-456c-d978-5ae43d93be66"
   },
   "source": [
    "height_variance2 = ((df['height'] - df['height'].mean())**2).sum() / (df['height'].count() - 1)\n",
    "height_variance2"
   ],
   "execution_count": null,
   "outputs": []
  },
  {
   "cell_type": "markdown",
   "metadata": {
    "id": "cscW2xopNKxi"
   },
   "source": [
    "С помощью метода **var** можно посчитать смещенную оценку дисперсии:"
   ]
  },
  {
   "cell_type": "code",
   "metadata": {
    "id": "RdNP_457NKxk",
    "outputId": "189e7202-ff79-414b-8699-68f508bf4140"
   },
   "source": [
    "df['height'].var(ddof=0)"
   ],
   "execution_count": null,
   "outputs": []
  },
  {
   "cell_type": "markdown",
   "metadata": {
    "id": "TJ_GG2LDNKx0"
   },
   "source": [
    "Несмещенная считается аналогично:"
   ]
  },
  {
   "cell_type": "code",
   "metadata": {
    "id": "oLdDIWUaNKx2",
    "outputId": "380d8ebb-b749-45c9-ac02-9b56296a5c46"
   },
   "source": [
    "df['height'].var(ddof=1)"
   ],
   "execution_count": null,
   "outputs": []
  },
  {
   "cell_type": "markdown",
   "metadata": {
    "id": "HGAvSJ_mNKx-"
   },
   "source": [
    "Аргумент **ddof** (Delta Degrees of Freedom) показывает, какую величину нужно отнять от числа наблюдений $n$, которое находится в формуле дисперсии в делителе."
   ]
  },
  {
   "cell_type": "markdown",
   "metadata": {
    "id": "NYuwpwm7NKx_"
   },
   "source": [
    "**Мода** — наиболее часто встречающееся в выборке значение. Для дискретных распределений модой считают любое значение $a_i$, вероятность которого $p_i$ больше, чем вероятности соседних значений.\n",
    "\n",
    "Если в выборке есть два и более значений, встречающихся с одинаковой (максимальной) вероятностью, то есть выборка имеет две и более мод, то ее называют **мультимодальной**.\n",
    "\n",
    "Модой абсолютно непрерывного распределения называют любую точку локального максимума плотности распределения."
   ]
  },
  {
   "cell_type": "markdown",
   "metadata": {
    "id": "4H1MmQ8sNKyD"
   },
   "source": [
    "**Медиана** — значение, которое делит выборку на две части так, что значения, которые меньше медианы, составляют половину (50 %) выборки. То есть половина значений выборки больше медианы, половина — не больше."
   ]
  },
  {
   "cell_type": "markdown",
   "metadata": {
    "id": "B228LLFLNKyG"
   },
   "source": [
    "**Первый квартиль** — значение, которое не превышают 25 % наблюдений в выборке."
   ]
  },
  {
   "cell_type": "markdown",
   "metadata": {
    "id": "UARYcGAwNKyH"
   },
   "source": [
    "**Второй квартиль** — синоним медианы."
   ]
  },
  {
   "cell_type": "markdown",
   "metadata": {
    "id": "6BUr0mcaNKyJ"
   },
   "source": [
    "**Третий квартиль** — значение, которое не превышают 75 % наблюдений в выборке."
   ]
  },
  {
   "cell_type": "markdown",
   "metadata": {
    "id": "X7bErti9NKyM"
   },
   "source": [
    "**Квантиль** — похожее понятие, только в качестве точки может выступать любая величина от 0 до 100 %.\n",
    "\n",
    "Например, 40 % квантиль — значение, которое не превышают 40 % наблюдений."
   ]
  },
  {
   "cell_type": "markdown",
   "metadata": {
    "id": "arCPKh6VNKyT"
   },
   "source": [
    "**Перцентиль** — частный случай квантиля, в качестве меры берутся целые проценты.\n",
    "\n",
    "Например, 40 % квантиль — то же, что и 40 % перцентиль."
   ]
  },
  {
   "cell_type": "markdown",
   "metadata": {
    "id": "q67sZzakNKyU"
   },
   "source": [
    "**Дециль** — частный случай квантиля, в качестве меры берутся десятки процентов.\n",
    "\n",
    "Например, 70 % квантиль — это также и 7-й дециль."
   ]
  },
  {
   "cell_type": "markdown",
   "metadata": {
    "id": "lhcr7dkjNKyW"
   },
   "source": [
    "**Интерквартильное расстояние** — отрезок, равный разности 3-й и 1-й квартили."
   ]
  },
  {
   "cell_type": "markdown",
   "metadata": {
    "id": "PNmx54fYNKyY"
   },
   "source": [
    "##### Графическое представление данных"
   ]
  },
  {
   "cell_type": "markdown",
   "metadata": {
    "collapsed": true,
    "id": "gR9QSn4MNKya"
   },
   "source": [
    "Чтобы получить представление о распределении роста хоккеистов, построим гистограмму. По умолчанию данные разбиваются на 10 частей (аргумент **bins**). Высота столбиков соответствует количеству наблюдений в бине:"
   ]
  },
  {
   "cell_type": "code",
   "metadata": {
    "id": "iZHf2w0UNKyc",
    "outputId": "5851d6b7-8da5-4ca6-8ea9-c93c665d563e"
   },
   "source": [
    "plt.hist(df['height'])\n",
    "plt.show()"
   ],
   "execution_count": null,
   "outputs": []
  },
  {
   "cell_type": "markdown",
   "metadata": {
    "collapsed": true,
    "id": "KwJ_RM31NKyo"
   },
   "source": [
    "Построим гистограмму еще раз, указав в качестве аргумента **bins** число 20, чтобы получить более детальную картину:"
   ]
  },
  {
   "cell_type": "code",
   "metadata": {
    "id": "kExdMvVdNKyp",
    "outputId": "94e9842f-0170-49ab-93e8-e00ef8315aaa"
   },
   "source": [
    "plt.hist(df['height'], bins = 20)\n",
    "plt.show()"
   ],
   "execution_count": null,
   "outputs": []
  },
  {
   "cell_type": "markdown",
   "metadata": {
    "collapsed": true,
    "id": "2P5DpOZTNKyw"
   },
   "source": [
    "Другой способ графически представить данные — построить диаграмму **boxplot**. Для этого импортируем библиотеку **seaborn**:"
   ]
  },
  {
   "cell_type": "code",
   "metadata": {
    "id": "7xl_WqYGNKy0"
   },
   "source": [
    "import seaborn as sns"
   ],
   "execution_count": null,
   "outputs": []
  },
  {
   "cell_type": "code",
   "metadata": {
    "id": "K8Xx4JX-NKy6",
    "outputId": "adea1a7f-b8f9-4207-9340-4108312d4b23"
   },
   "source": [
    "sns.boxplot(df['height'], orient='v')\n",
    "plt.show()"
   ],
   "execution_count": null,
   "outputs": []
  },
  {
   "cell_type": "markdown",
   "metadata": {
    "collapsed": true,
    "id": "rr6BpnOFNKzB"
   },
   "source": [
    "На данном графике показатели роста располагаются по вертикали. Черта в середине прямоугольника обозначает медиану, его нижняя сторона — 1-й квартиль, а верхняя — 3-й квартиль."
   ]
  },
  {
   "cell_type": "markdown",
   "metadata": {
    "collapsed": true,
    "id": "NRDf8FSYNKzH"
   },
   "source": [
    "От прямоугольника вверх и вниз отходят «усики». Черта на конце нижнего усика отстоит от 1-го квартиля на 1.5 интерквартильных расстояния, а на конце верхнего — на 1.5 интерквартильных расстояния от 3-го квартиля."
   ]
  },
  {
   "cell_type": "markdown",
   "metadata": {
    "collapsed": true,
    "id": "n1ZeOMTfNKzJ"
   },
   "source": [
    "Точки, находящиеся за их пределами, обозначают выбросы в данных — нетипичные наблюдения, которые могут быть и ошибками."
   ]
  },
  {
   "cell_type": "code",
   "metadata": {
    "id": "OIi4HbRwNKzM"
   },
   "source": [
    ""
   ],
   "execution_count": null,
   "outputs": []
  }
 ]
}