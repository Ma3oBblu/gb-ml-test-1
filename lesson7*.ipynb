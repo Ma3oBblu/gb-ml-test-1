{
 "cells": [
  {
   "cell_type": "code",
   "execution_count": null,
   "metadata": {
    "collapsed": true
   },
   "outputs": [],
   "source": [
    "def cal_cost(theta, x_data, y_data):\n",
    "    m = len(y_data)\n",
    "    predictions = x_data.dot(theta)\n",
    "    return (1/2*m) * np.sum(np.square(predictions - y_data))\n",
    "\n",
    "def gradient_descent(x_data, y_data, theta, lr=0.01, i=100):\n",
    "    m = len(y_data)\n",
    "    cost_history = np.zeros(i)\n",
    "    w_history = np.zeros((i,2))\n",
    "    for it in range(i):\n",
    "        prediction = np.dot(x_data, m)\n",
    "        theta = theta - (1/m) * lr * (x_data.T.dot((prediction - y_data)))\n",
    "        w_history[it, :] = theta.T\n",
    "        cost_history[it, :] = cal_cost(theta,x_data,y_data)\n",
    "        return theta,w_history,cost_history\n",
    "\n",
    "\n",
    "x100 = x.reshape(1, 10)\n",
    "X100 = np.vstack([np.ones((1, 10)), x100])\n",
    "y100 = y.reshape(len(y), 1)\n",
    "W100 = np.random.randn(2,1)\n",
    "\n",
    "w, history, cost = gradient_descent(X100,y100,W100)\n",
    "print(w[0][0],w[1][0] )\n"
   ]
  }
 ],
 "metadata": {
  "kernelspec": {
   "display_name": "Python 3",
   "language": "python",
   "name": "python3"
  },
  "language_info": {
   "codemirror_mode": {
    "name": "ipython",
    "version": 2
   },
   "file_extension": ".py",
   "mimetype": "text/x-python",
   "name": "python",
   "nbconvert_exporter": "python",
   "pygments_lexer": "ipython2",
   "version": "2.7.6"
  }
 },
 "nbformat": 4,
 "nbformat_minor": 0
}