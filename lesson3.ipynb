{
 "cells": [
  {
   "cell_type": "markdown",
   "source": [
    "Необходимый функционал, для подсчета числа сочитаний:"
   ],
   "metadata": {
    "collapsed": false
   }
  },
  {
   "cell_type": "code",
   "execution_count": 431,
   "outputs": [],
   "source": [
    "from math import factorial, sqrt\n",
    "def combinations(n, k):\n",
    "    return int(factorial(n) / (factorial(k) * factorial(n - k)))"
   ],
   "metadata": {
    "collapsed": false,
    "pycharm": {
     "name": "#%%\n"
    }
   }
  },
  {
   "cell_type": "markdown",
   "source": [
    "## Задание 1\n",
    "Даны значения зарплат из выборки выпускников: 100, 80, 75, 77, 89, 33, 45, 25, 65, 17, 30, 24, 57, 55, 70, 75, 65, 84, 90, 150.\n",
    "Посчитать (желательно без использования статистических методов наподобие std, var, mean):\n",
    "- среднее арифметическое,\n",
    "- среднее квадратичное отклонение,\n",
    "- смещенную и несмещенную оценки дисперсий для данной выборки."
   ],
   "metadata": {
    "collapsed": false
   }
  },
  {
   "cell_type": "markdown",
   "source": [
    "#### Среднее арифметическое"
   ],
   "metadata": {
    "collapsed": false,
    "pycharm": {
     "name": "#%% md\n"
    }
   }
  },
  {
   "cell_type": "code",
   "execution_count": 432,
   "outputs": [
    {
     "data": {
      "text/plain": "65.3"
     },
     "execution_count": 432,
     "metadata": {},
     "output_type": "execute_result"
    }
   ],
   "source": [
    "array = [100, 80, 75, 77, 89, 33, 45, 25, 65, 17, 30, 24, 57, 55, 70, 75, 65, 84, 90, 150]\n",
    "n = len(array)\n",
    "array_sum = 0\n",
    "for number in array:\n",
    "    array_sum = array_sum + number\n",
    "x_sr = array_sum/n\n",
    "x_sr"
   ],
   "metadata": {
    "collapsed": false,
    "pycharm": {
     "name": "#%%\n"
    }
   }
  },
  {
   "cell_type": "markdown",
   "source": [
    "#### Среднее квадратичное отклонение"
   ],
   "metadata": {
    "collapsed": false,
    "pycharm": {
     "name": "#%% md\n"
    }
   }
  },
  {
   "cell_type": "code",
   "execution_count": 433,
   "outputs": [
    {
     "data": {
      "text/plain": "30.823854398825596"
     },
     "execution_count": 433,
     "metadata": {},
     "output_type": "execute_result"
    }
   ],
   "source": [
    "s2_sum = 0\n",
    "for number in array:\n",
    "    s2_sum = s2_sum + ((number - x_sr) ** 2)\n",
    "s2 = sqrt(s2_sum/n)\n",
    "s2"
   ],
   "metadata": {
    "collapsed": false,
    "pycharm": {
     "name": "#%%\n"
    }
   }
  },
  {
   "cell_type": "markdown",
   "source": [
    "#### Смещенную и несмещенную оценки дисперсий для данной выборки"
   ],
   "metadata": {
    "collapsed": false,
    "pycharm": {
     "name": "#%% md\n"
    }
   }
  },
  {
   "cell_type": "code",
   "execution_count": 434,
   "outputs": [
    {
     "data": {
      "text/plain": "30.823854398825596"
     },
     "execution_count": 434,
     "metadata": {},
     "output_type": "execute_result"
    }
   ],
   "source": [
    "std_s = sqrt(s2_sum/n)\n",
    "std_s"
   ],
   "metadata": {
    "collapsed": false,
    "pycharm": {
     "name": "#%%\n"
    }
   }
  },
  {
   "cell_type": "code",
   "execution_count": 435,
   "outputs": [
    {
     "data": {
      "text/plain": "31.624607341019814"
     },
     "execution_count": 435,
     "metadata": {},
     "output_type": "execute_result"
    }
   ],
   "source": [
    "std_ns = sqrt(s2_sum/(n-1))\n",
    "std_ns"
   ],
   "metadata": {
    "collapsed": false,
    "pycharm": {
     "name": "#%%\n"
    }
   }
  },
  {
   "cell_type": "markdown",
   "source": [
    "## Задание 2\n",
    "В первом ящике находится 8 мячей, из которых 5 - белые. Во втором ящике - 12 мячей, из которых 5 белых.\n",
    "Из первого ящика вытаскивают случайным образом два мяча, из второго - 4. Какова вероятность того, что 3 мяча белые?\n",
    "\n",
    "Несколько вариантов вытащить 2 белых шара:\n",
    "- 2 белых из первого и 1 белый и 3 обычных из второго\n",
    "- 1 белый и 1 обычный из первого и 2 белых и 2 обычных из второго\n",
    "- 0 белых и 2 обычных из первого и 3 белых и 1 обычный из второго"
   ],
   "metadata": {
    "collapsed": false
   }
  },
  {
   "cell_type": "code",
   "execution_count": 436,
   "outputs": [
    {
     "data": {
      "text/plain": "0.06078643578643579"
     },
     "execution_count": 436,
     "metadata": {},
     "output_type": "execute_result"
    }
   ],
   "source": [
    "p2_1 = 5/8 * 4/7 * 5/12 * 7/11 * 6/10 * 5/9\n",
    "p2_2 = 5/8 * 3/7 * 5/12 * 4/11 * 6/10\n",
    "p2_3 = 3/8 * 2/7 * 5/12 * 4/11 * 3/10\n",
    "P2 = p2_1 + p2_2 + p2_3\n",
    "P2"
   ],
   "metadata": {
    "collapsed": false,
    "pycharm": {
     "name": "#%%\n"
    }
   }
  },
  {
   "cell_type": "markdown",
   "source": [
    "## Задание 3\n",
    "На соревновании по биатлону один из трех спортсменов стреляет и попадает в мишень.\n",
    "Вероятность попадания для первого спортсмена равна 0.9, для второго — 0.8, для третьего — 0.6.\n",
    "Найти вероятность того, что выстрел произведен:\n",
    "- первым спортсменом\n",
    "- вторым спортсменом\n",
    "- третьим спортсменом.\n",
    "Событие А - попадание в мишень.\n",
    "B1, B2, B3 - выстрелы спортсменом 1, 2 и 3 соответсвенно = 1/3"
   ],
   "metadata": {
    "collapsed": false,
    "pycharm": {
     "name": "#%% md\n"
    }
   }
  },
  {
   "cell_type": "code",
   "execution_count": 437,
   "outputs": [],
   "source": [
    "z3_p1 = 0.9\n",
    "z3_p2 = 0.8\n",
    "z3_p3 = 0.6\n",
    "z3_B1 = 1/3\n",
    "z3_B2 = 1/3\n",
    "z3_B3 = 1/3"
   ],
   "metadata": {
    "collapsed": false,
    "pycharm": {
     "name": "#%%\n"
    }
   }
  },
  {
   "cell_type": "markdown",
   "source": [
    "Найдем вероятность попадания в мишень:"
   ],
   "metadata": {
    "collapsed": false,
    "pycharm": {
     "name": "#%% md\n"
    }
   }
  },
  {
   "cell_type": "code",
   "execution_count": 438,
   "outputs": [
    {
     "data": {
      "text/plain": "0.7666666666666666"
     },
     "execution_count": 438,
     "metadata": {},
     "output_type": "execute_result"
    }
   ],
   "source": [
    "z3_PA = z3_B1 * z3_p1 + z3_B2 * z3_p2 + z3_B3 * z3_p3\n",
    "z3_PA"
   ],
   "metadata": {
    "collapsed": false,
    "pycharm": {
     "name": "#%%\n"
    }
   }
  },
  {
   "cell_type": "markdown",
   "source": [
    "Далее воспользуемся формулой Байеса для полной вероятности.\n",
    "Найдем вероятность того, что выстрел произведен первым спортсменом:"
   ],
   "metadata": {
    "collapsed": false,
    "pycharm": {
     "name": "#%% md\n"
    }
   }
  },
  {
   "cell_type": "code",
   "execution_count": 439,
   "outputs": [
    {
     "data": {
      "text/plain": "0.391304347826087"
     },
     "execution_count": 439,
     "metadata": {},
     "output_type": "execute_result"
    }
   ],
   "source": [
    "z3_PB1A = (z3_B1 * z3_p1)/z3_PA\n",
    "z3_PB1A"
   ],
   "metadata": {
    "collapsed": false,
    "pycharm": {
     "name": "#%%\n"
    }
   }
  },
  {
   "cell_type": "markdown",
   "source": [
    "Найдем вероятность того, что выстрел произведен вторым спортсменом:"
   ],
   "metadata": {
    "collapsed": false
   }
  },
  {
   "cell_type": "code",
   "execution_count": 440,
   "outputs": [
    {
     "data": {
      "text/plain": "0.3478260869565218"
     },
     "execution_count": 440,
     "metadata": {},
     "output_type": "execute_result"
    }
   ],
   "source": [
    "z3_PB2A = (z3_B2 * z3_p2)/z3_PA\n",
    "z3_PB2A"
   ],
   "metadata": {
    "collapsed": false,
    "pycharm": {
     "name": "#%%\n"
    }
   }
  },
  {
   "cell_type": "markdown",
   "source": [
    "Найдем вероятность того, что выстрел произведен третьим спортсменом:"
   ],
   "metadata": {
    "collapsed": false
   }
  },
  {
   "cell_type": "code",
   "execution_count": 441,
   "outputs": [
    {
     "data": {
      "text/plain": "0.2608695652173913"
     },
     "execution_count": 441,
     "metadata": {},
     "output_type": "execute_result"
    }
   ],
   "source": [
    "z3_PB3A = (z3_B3 * z3_p3)/z3_PA\n",
    "z3_PB3A"
   ],
   "metadata": {
    "collapsed": false,
    "pycharm": {
     "name": "#%%\n"
    }
   }
  },
  {
   "cell_type": "markdown",
   "source": [
    "## Задание 4\n",
    "В университет на факультеты A и B поступило равное количество студентов, а на факультет C студентов поступило столько же, сколько на A и B вместе.\n",
    "Вероятность того, что студент факультета A сдаст первую сессию, равна 0.8.\n",
    "Для студента факультета B эта вероятность равна 0.7, а для студента факультета C - 0.9.\n",
    "Студент сдал первую сессию.\n",
    "Какова вероятность, что он учится:\n",
    "- на факультете A\n",
    "- на факультете B\n",
    "- на факультете C?\n",
    "Событие А - сдача сессии.\n",
    "B1, B2, B3 - сдача сессии студентами факультета А, В и С соответсвенно."
   ],
   "metadata": {
    "collapsed": false,
    "pycharm": {
     "name": "#%% md\n"
    }
   }
  },
  {
   "cell_type": "code",
   "execution_count": 442,
   "outputs": [],
   "source": [
    "z4_p1 = 0.8\n",
    "z4_p2 = 0.7\n",
    "z4_p3 = 0.9\n",
    "z4_B1 = 1/4\n",
    "z4_B2 = 1/4\n",
    "z4_B3 = 2/4"
   ],
   "metadata": {
    "collapsed": false,
    "pycharm": {
     "name": "#%%\n"
    }
   }
  },
  {
   "cell_type": "markdown",
   "source": [
    "Найдем вероятность сдачи экзамена:"
   ],
   "metadata": {
    "collapsed": false,
    "pycharm": {
     "name": "#%% md\n"
    }
   }
  },
  {
   "cell_type": "code",
   "execution_count": 443,
   "outputs": [],
   "source": [
    "z4_PA = z4_B1 * z4_p1 + z4_B2 * z4_p2 + z4_B3 * z4_p3"
   ],
   "metadata": {
    "collapsed": false,
    "pycharm": {
     "name": "#%%\n"
    }
   }
  },
  {
   "cell_type": "markdown",
   "source": [
    "Далее воспользуемся формулой Байеса для полной вероятности.\n",
    "Найдем вероятность того, что студент сдавший сессию учится на факультете А:"
   ],
   "metadata": {
    "collapsed": false
   }
  },
  {
   "cell_type": "code",
   "execution_count": 444,
   "outputs": [
    {
     "data": {
      "text/plain": "0.24242424242424246"
     },
     "execution_count": 444,
     "metadata": {},
     "output_type": "execute_result"
    }
   ],
   "source": [
    "z4_PB1A = (z4_B1 * z4_p1)/z4_PA\n",
    "z4_PB1A"
   ],
   "metadata": {
    "collapsed": false,
    "pycharm": {
     "name": "#%%\n"
    }
   }
  },
  {
   "cell_type": "markdown",
   "source": [
    "Найдем вероятность того, что студент сдавший сессию учится на факультете В:"
   ],
   "metadata": {
    "collapsed": false
   }
  },
  {
   "cell_type": "code",
   "execution_count": 445,
   "outputs": [
    {
     "data": {
      "text/plain": "0.21212121212121213"
     },
     "execution_count": 445,
     "metadata": {},
     "output_type": "execute_result"
    }
   ],
   "source": [
    "z4_PB2A = (z4_B2 * z4_p2)/z4_PA\n",
    "z4_PB2A"
   ],
   "metadata": {
    "collapsed": false,
    "pycharm": {
     "name": "#%%\n"
    }
   }
  },
  {
   "cell_type": "markdown",
   "source": [
    "Найдем вероятность того, что студент сдавший сессию учится на факультете С:"
   ],
   "metadata": {
    "collapsed": false
   }
  },
  {
   "cell_type": "code",
   "execution_count": 446,
   "outputs": [
    {
     "data": {
      "text/plain": "0.5454545454545455"
     },
     "execution_count": 446,
     "metadata": {},
     "output_type": "execute_result"
    }
   ],
   "source": [
    "z4_PB3A = (z4_B3 * z4_p3)/z4_PA\n",
    "z4_PB3A"
   ],
   "metadata": {
    "collapsed": false,
    "pycharm": {
     "name": "#%%\n"
    }
   }
  },
  {
   "cell_type": "markdown",
   "source": [
    "## Задание 5\n",
    "Устройство состоит из трех деталей.\n",
    "Для первой детали вероятность выйти из строя в первый месяц равна 0.1, для второй - 0.2, для третьей - 0.25.\n",
    "Какова вероятность того, что в первый месяц выйдут из строя:\n",
    "- все детали\n",
    "- только две детали\n",
    "- хотя бы одна деталь\n",
    "- от одной до двух деталей?\n",
    "Событие А - выход из строя детали.\n",
    "B1, B2, B3 - выход из строя детали 1, 2 или 3 соответственно."
   ],
   "metadata": {
    "collapsed": false,
    "pycharm": {
     "name": "#%% md\n"
    }
   }
  },
  {
   "cell_type": "code",
   "execution_count": 447,
   "outputs": [],
   "source": [
    "z5_p1 = 0.1\n",
    "z5_p2 = 0.2\n",
    "z5_p3 = 0.25\n",
    "z5_B1 = 1/3\n",
    "z5_B2 = 1/3\n",
    "z5_B3 = 1/3"
   ],
   "metadata": {
    "collapsed": false,
    "pycharm": {
     "name": "#%%\n"
    }
   }
  },
  {
   "cell_type": "markdown",
   "source": [
    "Найдем вероятность выхода из строя детали:"
   ],
   "metadata": {
    "collapsed": false
   }
  },
  {
   "cell_type": "code",
   "execution_count": 448,
   "outputs": [
    {
     "data": {
      "text/plain": "0.18333333333333335"
     },
     "execution_count": 448,
     "metadata": {},
     "output_type": "execute_result"
    }
   ],
   "source": [
    "z5_PA = z5_B1 * z5_p1 + z5_B2 * z5_p2 + z5_B3 * z5_p3\n",
    "z5_PA"
   ],
   "metadata": {
    "collapsed": false,
    "pycharm": {
     "name": "#%%\n"
    }
   }
  },
  {
   "cell_type": "markdown",
   "source": [
    "Далее воспользуемся формулой Байеса для полной вероятности.\n",
    "Найдем вероятность выхода из строя для каждой из деталей:"
   ],
   "metadata": {
    "collapsed": false
   }
  },
  {
   "cell_type": "code",
   "execution_count": 449,
   "outputs": [
    {
     "data": {
      "text/plain": "0.1818181818181818"
     },
     "execution_count": 449,
     "metadata": {},
     "output_type": "execute_result"
    }
   ],
   "source": [
    "z5_PB1A = (z5_B1 * z5_p1)/z5_PA\n",
    "z5_PB1A"
   ],
   "metadata": {
    "collapsed": false,
    "pycharm": {
     "name": "#%%\n"
    }
   }
  },
  {
   "cell_type": "code",
   "execution_count": 450,
   "outputs": [
    {
     "data": {
      "text/plain": "0.3636363636363636"
     },
     "execution_count": 450,
     "metadata": {},
     "output_type": "execute_result"
    }
   ],
   "source": [
    "z5_PB2A = (z5_B2 * z5_p2)/z5_PA\n",
    "z5_PB2A"
   ],
   "metadata": {
    "collapsed": false,
    "pycharm": {
     "name": "#%%\n"
    }
   }
  },
  {
   "cell_type": "code",
   "execution_count": 451,
   "outputs": [
    {
     "data": {
      "text/plain": "0.4545454545454545"
     },
     "execution_count": 451,
     "metadata": {},
     "output_type": "execute_result"
    }
   ],
   "source": [
    "z5_PB3A = (z5_B3 * z5_p3)/z5_PA\n",
    "z5_PB3A"
   ],
   "metadata": {
    "collapsed": false,
    "pycharm": {
     "name": "#%%\n"
    }
   }
  },
  {
   "cell_type": "markdown",
   "source": [
    "#### Какова вероятность того, что в первый месяц выйдут из строя все детали\n",
    "первая и вторая и третья"
   ],
   "metadata": {
    "collapsed": false,
    "pycharm": {
     "name": "#%% md\n"
    }
   }
  },
  {
   "cell_type": "code",
   "execution_count": 452,
   "outputs": [
    {
     "data": {
      "text/plain": "0.0300525920360631"
     },
     "execution_count": 452,
     "metadata": {},
     "output_type": "execute_result"
    }
   ],
   "source": [
    "z5_P1 = z5_PB1A * z5_PB2A * z5_PB3A\n",
    "z5_P1"
   ],
   "metadata": {
    "collapsed": false,
    "pycharm": {
     "name": "#%%\n"
    }
   }
  },
  {
   "cell_type": "markdown",
   "source": [
    "#### Какова вероятность того, что в первый месяц выйдут из строя только две детали\n",
    "варианты: или первая и вторая, или первая и третья, или вторая и третья"
   ],
   "metadata": {
    "collapsed": false
   }
  },
  {
   "cell_type": "code",
   "execution_count": 453,
   "outputs": [
    {
     "data": {
      "text/plain": "0.3140495867768594"
     },
     "execution_count": 453,
     "metadata": {},
     "output_type": "execute_result"
    }
   ],
   "source": [
    "z5_P2 = z5_PB1A * z5_PB2A + z5_PB1A * z5_PB3A + z5_PB2A * z5_PB3A\n",
    "z5_P2"
   ],
   "metadata": {
    "collapsed": false,
    "pycharm": {
     "name": "#%%\n"
    }
   }
  },
  {
   "cell_type": "markdown",
   "source": [
    "#### Какова вероятность того, что в первый месяц выйдет из строя хотя бы одна деталь\n",
    "варианты: от 100% отнимем вероятность, когда все 3 не вышли из строя (вероятность наступления противоположного события)"
   ],
   "metadata": {
    "collapsed": false
   }
  },
  {
   "cell_type": "code",
   "execution_count": 454,
   "outputs": [
    {
     "data": {
      "text/plain": "0.7160030052592035"
     },
     "execution_count": 454,
     "metadata": {},
     "output_type": "execute_result"
    }
   ],
   "source": [
    "z5P3 = 1 - ((1-z5_PB1A) * (1-z5_PB2A) * (1-z5_PB3A))\n",
    "z5P3"
   ],
   "metadata": {
    "collapsed": false,
    "pycharm": {
     "name": "#%%\n"
    }
   }
  },
  {
   "cell_type": "markdown",
   "source": [
    "#### Какова вероятность того, что в первый месяц выйдут из строя от одной до двух деталей\n",
    "варианты: от 100% отнимем вероятность, когда все три вышли из строя"
   ],
   "metadata": {
    "collapsed": false
   }
  },
  {
   "cell_type": "code",
   "execution_count": 455,
   "outputs": [
    {
     "data": {
      "text/plain": "0.9699474079639369"
     },
     "execution_count": 455,
     "metadata": {},
     "output_type": "execute_result"
    }
   ],
   "source": [
    "z5_P4 = 1 - (z5_PB1A * z5_PB2A * z5_PB3A)\n",
    "z5_P4"
   ],
   "metadata": {
    "collapsed": false,
    "pycharm": {
     "name": "#%%\n"
    }
   }
  }
 ],
 "metadata": {
  "kernelspec": {
   "display_name": "Python 3",
   "language": "python",
   "name": "python3"
  },
  "language_info": {
   "codemirror_mode": {
    "name": "ipython",
    "version": 2
   },
   "file_extension": ".py",
   "mimetype": "text/x-python",
   "name": "python",
   "nbconvert_exporter": "python",
   "pygments_lexer": "ipython2",
   "version": "2.7.6"
  }
 },
 "nbformat": 4,
 "nbformat_minor": 0
}