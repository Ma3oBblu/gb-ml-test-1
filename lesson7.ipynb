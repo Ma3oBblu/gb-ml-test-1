{
 "cells": [
  {
   "cell_type": "markdown",
   "metadata": {
    "pycharm": {
     "name": "#%% md\n"
    }
   },
   "source": [
    "## Задание #1\n",
    "Даны значения величины заработной платы заемщиков банка (zp) и значения их поведенческого кредитного скоринга (ks):\n",
    "zp = [35, 45, 190, 200, 40, 70, 54, 150, 120, 110],\n",
    "ks = [401, 574, 874, 919, 459, 739, 653, 902, 746, 832].\n",
    "Используя математические операции, посчитать коэффициенты линейной регрессии,\n",
    "приняв за X заработную плату (то есть, zp - признак), а за y - значения скорингового балла (то есть, ks - целевая переменная).\n",
    "Произвести расчет как с использованием intercept, так и без."
   ]
  },
  {
   "cell_type": "code",
   "execution_count": 615,
   "metadata": {
    "pycharm": {
     "name": "#%%\n"
    }
   },
   "outputs": [],
   "source": [
    "import numpy as np\n",
    "\n",
    "n = 10\n",
    "x = np.array([35, 45, 190, 200, 40, 70, 54, 150, 120, 110])\n",
    "y = np.array([401, 574, 874, 919, 459, 739, 653, 902, 746, 832])"
   ]
  },
  {
   "cell_type": "markdown",
   "metadata": {
    "pycharm": {
     "name": "#%% md\n"
    }
   },
   "source": [
    "Проведем рассчет с использованием интерцепта:"
   ]
  },
  {
   "cell_type": "code",
   "execution_count": 616,
   "metadata": {
    "pycharm": {
     "name": "#%%\n"
    }
   },
   "outputs": [
    {
     "data": {
      "text/plain": "2.620538882402765"
     },
     "execution_count": 616,
     "metadata": {},
     "output_type": "execute_result"
    }
   ],
   "source": [
    "B1_1 = (np.mean(x * y) - (np.mean(x) * np.mean(y))) / (np.mean(x**2) - np.mean(x) ** 2)\n",
    "B1_1"
   ]
  },
  {
   "cell_type": "code",
   "execution_count": 617,
   "metadata": {
    "pycharm": {
     "name": "#%%\n"
    }
   },
   "outputs": [
    {
     "data": {
      "text/plain": "444.1773573243596"
     },
     "execution_count": 617,
     "metadata": {},
     "output_type": "execute_result"
    }
   ],
   "source": [
    "A1 = np.mean(y) - B1_1 * np.mean(x)\n",
    "A1"
   ]
  },
  {
   "cell_type": "markdown",
   "source": [
    "тоже самое с использованием матричного метода:"
   ],
   "metadata": {
    "collapsed": false,
    "pycharm": {
     "name": "#%% md\n"
    }
   }
  },
  {
   "cell_type": "code",
   "execution_count": 618,
   "outputs": [],
   "source": [
    "x1 = x.reshape(len(x), 1)\n",
    "y1 = y.reshape(len(y), 1)\n",
    "X1 = np.hstack([np.ones((10,1)), x1])"
   ],
   "metadata": {
    "collapsed": false,
    "pycharm": {
     "name": "#%%\n"
    }
   }
  },
  {
   "cell_type": "code",
   "execution_count": 619,
   "outputs": [
    {
     "data": {
      "text/plain": "array([[444.17735732],\n       [  2.62053888]])"
     },
     "execution_count": 619,
     "metadata": {},
     "output_type": "execute_result"
    }
   ],
   "source": [
    "B1_1_1 = np.dot(np.linalg.inv(np.dot(X1.T,X1)),X1.T@y1)\n",
    "B1_1_1"
   ],
   "metadata": {
    "collapsed": false,
    "pycharm": {
     "name": "#%%\n"
    }
   }
  },
  {
   "cell_type": "code",
   "execution_count": 620,
   "outputs": [
    {
     "data": {
      "text/plain": "array([[444.17735732],\n       [  2.62053888]])"
     },
     "execution_count": 620,
     "metadata": {},
     "output_type": "execute_result"
    }
   ],
   "source": [
    "B1_1_2 = np.linalg.pinv(X1).dot(y1)\n",
    "B1_1_2"
   ],
   "metadata": {
    "collapsed": false,
    "pycharm": {
     "name": "#%%\n"
    }
   }
  },
  {
   "cell_type": "code",
   "execution_count": 621,
   "metadata": {
    "pycharm": {
     "name": "#%%\n"
    }
   },
   "outputs": [
    {
     "data": {
      "text/plain": "array([535.89621821, 562.10160703, 942.07974498, 968.2851338 ,\n       548.99891262, 627.61507909, 585.68645697, 837.25818968,\n       758.64202321, 732.43663439])"
     },
     "execution_count": 621,
     "metadata": {},
     "output_type": "execute_result"
    }
   ],
   "source": [
    "y_hat1 = A1 + (B1_1 * x)\n",
    "y_hat1"
   ]
  },
  {
   "cell_type": "code",
   "execution_count": 622,
   "outputs": [
    {
     "data": {
      "text/plain": "6470.414201176658"
     },
     "execution_count": 622,
     "metadata": {},
     "output_type": "execute_result"
    }
   ],
   "source": [
    "mse1 = np.mean((y - y_hat1) ** 2)\n",
    "mse1"
   ],
   "metadata": {
    "collapsed": false,
    "pycharm": {
     "name": "#%%\n"
    }
   }
  },
  {
   "cell_type": "markdown",
   "metadata": {
    "pycharm": {
     "name": "#%% md\n"
    }
   },
   "source": [
    "Проведем рассчет без использования интерцепта:"
   ]
  },
  {
   "cell_type": "code",
   "execution_count": 623,
   "metadata": {
    "pycharm": {
     "name": "#%%\n"
    }
   },
   "outputs": [
    {
     "data": {
      "text/plain": "8.732607022607024"
     },
     "execution_count": 623,
     "metadata": {},
     "output_type": "execute_result"
    }
   ],
   "source": [
    "B1_2 = np.mean(y/x)\n",
    "B1_2"
   ]
  },
  {
   "cell_type": "code",
   "execution_count": 624,
   "metadata": {
    "pycharm": {
     "name": "#%%\n"
    }
   },
   "outputs": [
    {
     "data": {
      "text/plain": "array([ 305.64124579,  392.96731602, 1659.1953343 , 1746.52140452,\n        349.3042809 ,  611.28249158,  471.56077922, 1309.89105339,\n       1047.91284271,  960.58677249])"
     },
     "execution_count": 624,
     "metadata": {},
     "output_type": "execute_result"
    }
   ],
   "source": [
    "y_hat2 = B1_2 * x\n",
    "y_hat2"
   ]
  },
  {
   "cell_type": "markdown",
   "source": [
    "тоже самое с использованием матричного метода:"
   ],
   "metadata": {
    "collapsed": false
   }
  },
  {
   "cell_type": "code",
   "execution_count": 625,
   "outputs": [
    {
     "data": {
      "text/plain": "array([[5.88982042]])"
     },
     "execution_count": 625,
     "metadata": {},
     "output_type": "execute_result"
    }
   ],
   "source": [
    "x2 = x.reshape(len(x), 1)\n",
    "y2 = y.reshape(len(y), 1)\n",
    "B1_2_1 = np.dot(np.linalg.inv(np.dot(x2.T,x2)),x2.T@y2)\n",
    "B1_2_1"
   ],
   "metadata": {
    "collapsed": false,
    "pycharm": {
     "name": "#%%\n"
    }
   }
  },
  {
   "cell_type": "code",
   "execution_count": 626,
   "outputs": [
    {
     "data": {
      "text/plain": "array([[5.88982042]])"
     },
     "execution_count": 626,
     "metadata": {},
     "output_type": "execute_result"
    }
   ],
   "source": [
    "B1_2_2 = np.linalg.pinv(x2).dot(y2)\n",
    "B1_2_2"
   ],
   "metadata": {
    "collapsed": false,
    "pycharm": {
     "name": "#%%\n"
    }
   }
  },
  {
   "cell_type": "code",
   "execution_count": 627,
   "outputs": [
    {
     "data": {
      "text/plain": "167851.56502857123"
     },
     "execution_count": 627,
     "metadata": {},
     "output_type": "execute_result"
    }
   ],
   "source": [
    "mse2 = np.mean((y - y_hat2) ** 2)\n",
    "mse2"
   ],
   "metadata": {
    "collapsed": false,
    "pycharm": {
     "name": "#%%\n"
    }
   }
  },
  {
   "cell_type": "code",
   "execution_count": 628,
   "outputs": [
    {
     "data": {
      "text/plain": "     x    y      y_hat1       y_hat2\n0   35  401  535.896218   305.641246\n1   45  574  562.101607   392.967316\n2  190  874  942.079745  1659.195334\n3  200  919  968.285134  1746.521405\n4   40  459  548.998913   349.304281\n5   70  739  627.615079   611.282492\n6   54  653  585.686457   471.560779\n7  150  902  837.258190  1309.891053\n8  120  746  758.642023  1047.912843\n9  110  832  732.436634   960.586772",
      "text/html": "<div>\n<style scoped>\n    .dataframe tbody tr th:only-of-type {\n        vertical-align: middle;\n    }\n\n    .dataframe tbody tr th {\n        vertical-align: top;\n    }\n\n    .dataframe thead th {\n        text-align: right;\n    }\n</style>\n<table border=\"1\" class=\"dataframe\">\n  <thead>\n    <tr style=\"text-align: right;\">\n      <th></th>\n      <th>x</th>\n      <th>y</th>\n      <th>y_hat1</th>\n      <th>y_hat2</th>\n    </tr>\n  </thead>\n  <tbody>\n    <tr>\n      <th>0</th>\n      <td>35</td>\n      <td>401</td>\n      <td>535.896218</td>\n      <td>305.641246</td>\n    </tr>\n    <tr>\n      <th>1</th>\n      <td>45</td>\n      <td>574</td>\n      <td>562.101607</td>\n      <td>392.967316</td>\n    </tr>\n    <tr>\n      <th>2</th>\n      <td>190</td>\n      <td>874</td>\n      <td>942.079745</td>\n      <td>1659.195334</td>\n    </tr>\n    <tr>\n      <th>3</th>\n      <td>200</td>\n      <td>919</td>\n      <td>968.285134</td>\n      <td>1746.521405</td>\n    </tr>\n    <tr>\n      <th>4</th>\n      <td>40</td>\n      <td>459</td>\n      <td>548.998913</td>\n      <td>349.304281</td>\n    </tr>\n    <tr>\n      <th>5</th>\n      <td>70</td>\n      <td>739</td>\n      <td>627.615079</td>\n      <td>611.282492</td>\n    </tr>\n    <tr>\n      <th>6</th>\n      <td>54</td>\n      <td>653</td>\n      <td>585.686457</td>\n      <td>471.560779</td>\n    </tr>\n    <tr>\n      <th>7</th>\n      <td>150</td>\n      <td>902</td>\n      <td>837.258190</td>\n      <td>1309.891053</td>\n    </tr>\n    <tr>\n      <th>8</th>\n      <td>120</td>\n      <td>746</td>\n      <td>758.642023</td>\n      <td>1047.912843</td>\n    </tr>\n    <tr>\n      <th>9</th>\n      <td>110</td>\n      <td>832</td>\n      <td>732.436634</td>\n      <td>960.586772</td>\n    </tr>\n  </tbody>\n</table>\n</div>"
     },
     "execution_count": 628,
     "metadata": {},
     "output_type": "execute_result"
    }
   ],
   "source": [
    "import pandas as pd\n",
    "\n",
    "df = pd.DataFrame({'x': x, 'y': y, 'y_hat1': y_hat1, 'y_hat2': y_hat2}, columns=['x', 'y', 'y_hat1', 'y_hat2'])\n",
    "df"
   ],
   "metadata": {
    "collapsed": false,
    "pycharm": {
     "name": "#%%\n"
    }
   }
  },
  {
   "cell_type": "markdown",
   "metadata": {
    "pycharm": {
     "name": "#%% md\n"
    }
   },
   "source": [
    "## Задание #2\n",
    "Посчитать коэффициент линейной регрессии при заработной плате (zp), используя градиентный спуск (без intercept)."
   ]
  },
  {
   "cell_type": "code",
   "execution_count": 629,
   "metadata": {
    "pycharm": {
     "name": "#%%\n"
    }
   },
   "outputs": [
    {
     "data": {
      "text/plain": "1e-06"
     },
     "execution_count": 629,
     "metadata": {},
     "output_type": "execute_result"
    }
   ],
   "source": [
    "alpha = 1e-6\n",
    "alpha"
   ]
  },
  {
   "cell_type": "code",
   "execution_count": 630,
   "outputs": [
    {
     "name": "stdout",
     "output_type": "stream",
     "text": [
      "Iteration: 0, B1=0.25952808, mse=493237.7212546963\n",
      "Iteration: 500, B1=5.889815595583751, mse=56516.858416040064\n",
      "Iteration: 1000, B1=5.8898204201285544, mse=56516.85841571941\n",
      "Iteration: 1500, B1=5.889820420132673, mse=56516.85841571943\n",
      "Iteration: 2000, B1=5.889820420132673, mse=56516.85841571943\n",
      "Iteration: 2500, B1=5.889820420132673, mse=56516.85841571943\n"
     ]
    }
   ],
   "source": [
    "B1 = 0.1\n",
    "for i in range(3000):\n",
    "    B1 -= alpha*(2/n)*np.sum((B1*x-y)*x)\n",
    "    if i%500 == 0:\n",
    "        print('Iteration: {i}, B1={B1}, mse={mse}'.format(i=i, B1=B1, mse=np.mean((B1*x-y)**2)))"
   ],
   "metadata": {
    "collapsed": false,
    "pycharm": {
     "name": "#%%\n"
    }
   }
  },
  {
   "cell_type": "markdown",
   "metadata": {
    "pycharm": {
     "name": "#%% md\n"
    }
   },
   "source": [
    "## Задание #3\n",
    "В каких случаях для вычисления доверительных интервалов и проверки статистических гипотез используется таблица значений функции Лапласа,\n",
    "а в каких - таблица критических точек распределения Стьюдента?\n",
    "\n",
    "- При неизвестной сигме/дисперсии генеральной совокупности используется критерий Стьюдента(таблица критических точек распределения Стьюдента).\n",
    "\n",
    "- Если сигма/дисперсия генеральной совокупности известна - используется Z критерий (таблица значений функции Лапласа)"
   ]
  },
  {
   "cell_type": "markdown",
   "metadata": {
    "pycharm": {
     "name": "#%% md\n"
    }
   },
   "source": [
    "## Задание #4\n",
    "Произвести вычисления как в пункте 2, но с вычислением intercept.\n",
    "Учесть, что изменение коэффициентов должно производиться на каждом шаге одновременно\n",
    "(то есть изменение одного коэффициента не должно влиять на изменение другого во время одной итерации)."
   ]
  },
  {
   "cell_type": "code",
   "execution_count": 631,
   "outputs": [
    {
     "data": {
      "text/plain": "0.0001"
     },
     "execution_count": 631,
     "metadata": {},
     "output_type": "execute_result"
    }
   ],
   "source": [
    "alpha = 1e-4\n",
    "alpha"
   ],
   "metadata": {
    "collapsed": false,
    "pycharm": {
     "name": "#%%\n"
    }
   }
  },
  {
   "cell_type": "code",
   "execution_count": 632,
   "outputs": [
    {
     "name": "stdout",
     "output_type": "stream",
     "text": [
      "0 1.038986 4.0182340000000005\n",
      "100000 369.3466815229913 0.23298241872678535\n",
      "200000 398.49497394059296 0.018438099332876948\n",
      "300000 400.8017536277315 0.0014591809496521647\n",
      "400000 400.98431089210663 0.00011547877064858756\n",
      "500000 400.998758372706 9.13892583896679e-06\n",
      "600000 400.9999017383009 7.232495494284433e-07\n",
      "700000 400.99999222362175 5.723758208974189e-08\n",
      "800000 400.9999993845814 4.529753182696159e-09\n",
      "900000 400.99999995129116 3.5851873151827197e-10\n",
      "1000000 400.9999999961029 2.868464180651348e-11\n",
      "1100000 400.99999999887973 8.24545993950854e-12\n",
      "1200000 400.99999999887973 8.24545993950854e-12\n",
      "1300000 400.99999999887973 8.24545993950854e-12\n",
      "1400000 400.99999999887973 8.24545993950854e-12\n",
      "1500000 400.99999999887973 8.24545993950854e-12\n",
      "1600000 400.99999999887973 8.24545993950854e-12\n",
      "1700000 400.99999999887973 8.24545993950854e-12\n",
      "1800000 400.99999999887973 8.24545993950854e-12\n",
      "1900000 400.99999999887973 8.24545993950854e-12\n",
      "2000000 400.99999999887973 8.24545993950854e-12\n",
      "2100000 400.99999999887973 8.24545993950854e-12\n",
      "2200000 400.99999999887973 8.24545993950854e-12\n",
      "2300000 400.99999999887973 8.24545993950854e-12\n",
      "2400000 400.99999999887973 8.24545993950854e-12\n",
      "2500000 400.99999999887973 8.24545993950854e-12\n",
      "2600000 400.99999999887973 8.24545993950854e-12\n",
      "2700000 400.99999999887973 8.24545993950854e-12\n",
      "2800000 400.99999999887973 8.24545993950854e-12\n",
      "2900000 400.99999999887973 8.24545993950854e-12\n",
      "3000000 400.99999999887973 8.24545993950854e-12\n",
      "3100000 400.99999999887973 8.24545993950854e-12\n",
      "3200000 400.99999999887973 8.24545993950854e-12\n",
      "3300000 400.99999999887973 8.24545993950854e-12\n",
      "3400000 400.99999999887973 8.24545993950854e-12\n",
      "3500000 400.99999999887973 8.24545993950854e-12\n",
      "3600000 400.99999999887973 8.24545993950854e-12\n",
      "3700000 400.99999999887973 8.24545993950854e-12\n",
      "3800000 400.99999999887973 8.24545993950854e-12\n",
      "3900000 400.99999999887973 8.24545993950854e-12\n"
     ]
    }
   ],
   "source": [
    "x = x.reshape(1, 10)\n",
    "X = np.vstack([np.ones((1, 10)), x])\n",
    "y = y.reshape(len(y), 1)\n",
    "W = [1, 0.1]\n",
    "\n",
    "for i in range(4000000):\n",
    "    predict = np.dot(W,X)\n",
    "    W = W - alpha*(1/n)*np.dot((predict - y), X.T)\n",
    "    if i%100000 == 0:\n",
    "        w_history = W.T\n",
    "        print(i, w_history[0][0], w_history[1][0])\n"
   ],
   "metadata": {
    "collapsed": false,
    "pycharm": {
     "name": "#%%\n"
    }
   }
  }
 ],
 "metadata": {
  "kernelspec": {
   "display_name": "Python 3",
   "language": "python",
   "name": "python3"
  },
  "language_info": {
   "codemirror_mode": {
    "name": "ipython",
    "version": 3
   },
   "file_extension": ".py",
   "mimetype": "text/x-python",
   "name": "python",
   "nbconvert_exporter": "python",
   "pygments_lexer": "ipython3",
   "version": "3.9.0"
  }
 },
 "nbformat": 4,
 "nbformat_minor": 1
}