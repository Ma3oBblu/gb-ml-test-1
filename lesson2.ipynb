{
 "cells": [
  {
   "cell_type": "markdown",
   "source": [
    "Необходимый функционал, для подсчета числа сочитаний:"
   ],
   "metadata": {
    "collapsed": false
   }
  },
  {
   "cell_type": "code",
   "execution_count": 97,
   "outputs": [],
   "source": [
    "import numpy as np\n",
    "from math import factorial\n",
    "def combinations(n, k):\n",
    "    return int(factorial(n) / (factorial(k) * factorial(n - k)))"
   ],
   "metadata": {
    "collapsed": false,
    "pycharm": {
     "name": "#%%\n"
    }
   }
  },
  {
   "cell_type": "markdown",
   "source": [
    "## Задание 1\n",
    "Вероятность того, что стрелок попадет в мишень, выстрелив один раз, равна 0.8.\n",
    "Стрелок выстрелил 100 раз. Найдите вероятность того, что стрелок попадет в цель ровно 85 раз."
   ],
   "metadata": {
    "collapsed": false
   }
  },
  {
   "cell_type": "markdown",
   "metadata": {
    "collapsed": true,
    "pycharm": {
     "name": "#%% md\n"
    }
   },
   "source": [
    "В данном случае применимо биномиальное распределение. Посчитаем вероятность по формуле Бернулли:"
   ]
  },
  {
   "cell_type": "code",
   "execution_count": 98,
   "outputs": [
    {
     "data": {
      "text/plain": "0.048061793700746355"
     },
     "execution_count": 98,
     "metadata": {},
     "output_type": "execute_result"
    }
   ],
   "source": [
    "p1 = 0.8\n",
    "n1 = 100\n",
    "k1 = 85\n",
    "X1 = combinations(n1, k1) * (p1**k1) * ((1-p1)**(n1-k1))\n",
    "X1"
   ],
   "metadata": {
    "collapsed": false,
    "pycharm": {
     "name": "#%%\n"
    }
   }
  },
  {
   "cell_type": "markdown",
   "source": [
    "## Задание 2\n",
    "Вероятность того, что лампочка перегорит в течение первого дня эксплуатации, равна 0.0004.\n",
    "В жилом комплексе после ремонта в один день включили 5000 новых лампочек."
   ],
   "metadata": {
    "collapsed": false,
    "pycharm": {
     "name": "#%% md\n"
    }
   }
  },
  {
   "cell_type": "markdown",
   "source": [
    "#### Какова вероятность, что ни одна из них не перегорит в первый день?\n",
    "Т.к. вероятность мала, а кол-во испытаний большое, можем использовать формулу Пуассона:"
   ],
   "metadata": {
    "collapsed": false,
    "pycharm": {
     "name": "#%% md\n"
    }
   }
  },
  {
   "cell_type": "code",
   "execution_count": 99,
   "outputs": [
    {
     "data": {
      "text/plain": "0.1353352832366127"
     },
     "execution_count": 99,
     "metadata": {},
     "output_type": "execute_result"
    }
   ],
   "source": [
    "n2 = 5000\n",
    "p2 = 0.0004\n",
    "lambda_ = n2 * p2\n",
    "m0 = 0\n",
    "P0 = (lambda_**m0 / np.math.factorial(m0)) * np.exp(-lambda_)\n",
    "P0"
   ],
   "metadata": {
    "collapsed": false,
    "pycharm": {
     "name": "#%%\n"
    }
   }
  },
  {
   "cell_type": "markdown",
   "source": [
    "#### Какова вероятность, что перегорят ровно две?"
   ],
   "metadata": {
    "collapsed": false,
    "pycharm": {
     "name": "#%% md\n"
    }
   }
  },
  {
   "cell_type": "code",
   "execution_count": 100,
   "outputs": [
    {
     "data": {
      "text/plain": "0.2706705664732254"
     },
     "execution_count": 100,
     "metadata": {},
     "output_type": "execute_result"
    }
   ],
   "source": [
    "m2 = 2\n",
    "P2 = (lambda_**m2 / np.math.factorial(m2)) * np.exp(-lambda_)\n",
    "P2"
   ],
   "metadata": {
    "collapsed": false,
    "pycharm": {
     "name": "#%%\n"
    }
   }
  },
  {
   "cell_type": "markdown",
   "source": [
    "## Задание 3\n",
    "Монету подбросили 144 раза. Какова вероятность, что орел выпадет ровно 70 раз?"
   ],
   "metadata": {
    "collapsed": false
   }
  },
  {
   "cell_type": "markdown",
   "source": [
    "В данном случае применимо биномиальное распределение. Посчитаем вероятность по формуле Бернулли:"
   ],
   "metadata": {
    "collapsed": false
   }
  },
  {
   "cell_type": "code",
   "execution_count": 101,
   "outputs": [
    {
     "data": {
      "text/plain": "0.06281178035144776"
     },
     "execution_count": 101,
     "metadata": {},
     "output_type": "execute_result"
    }
   ],
   "source": [
    "p3 = 0.5\n",
    "n3 = 144\n",
    "k3 = 70\n",
    "m = n3 * p3\n",
    "d = n3 * p3 * (1-p3)\n",
    "X3 = combinations(n3, k3) * (p3**k3) * ((1-p3)**(n3-k3))\n",
    "X3"
   ],
   "metadata": {
    "collapsed": false,
    "pycharm": {
     "name": "#%%\n"
    }
   }
  },
  {
   "cell_type": "markdown",
   "source": [
    "## Задание 4\n",
    "В первом ящике находится 10 мячей, из которых 7 - белые.\n",
    "Во втором ящике - 11 мячей, из которых 9 белых.\n",
    "Из каждого ящика вытаскивают случайным образом по два мяча."
   ],
   "metadata": {
    "collapsed": false,
    "pycharm": {
     "name": "#%% md\n"
    }
   }
  },
  {
   "cell_type": "markdown",
   "source": [
    "#### Какова вероятность того, что все мячи белые?\n",
    "В данном случае мы должны вытащить 2 белых шара из первого ящика (7 к 10 и 6 к 9)\n",
    "и 2 белых шара из второго ящика (9 к 11 и 8 к 10):"
   ],
   "metadata": {
    "collapsed": false,
    "pycharm": {
     "name": "#%% md\n"
    }
   }
  },
  {
   "cell_type": "code",
   "source": [
    "P4_1 = 7/10 * 6/9 * 9/11 * 8/10\n",
    "P4_1"
   ],
   "metadata": {
    "collapsed": false,
    "pycharm": {
     "name": "#%%\n"
    }
   },
   "execution_count": 102,
   "outputs": [
    {
     "data": {
      "text/plain": "0.3054545454545454"
     },
     "execution_count": 102,
     "metadata": {},
     "output_type": "execute_result"
    }
   ]
  },
  {
   "cell_type": "markdown",
   "source": [
    "#### Какова вероятность того, что ровно два мяча белые?\n",
    "В данном случае есть несколько комбинаций:\n",
    "- по одному белому шару из каждого ящика и по одному обычному из каждого ящика\n",
    "- 2 белых из первого ящика и 2 обычных из второго ящика\n",
    "- 2 обычных из первого ящика и 2 белых из второго ящика"
   ],
   "metadata": {
    "collapsed": false,
    "pycharm": {
     "name": "#%% md\n"
    }
   }
  },
  {
   "cell_type": "code",
   "execution_count": 103,
   "outputs": [
    {
     "data": {
      "text/plain": "0.17494214876033057"
     },
     "execution_count": 103,
     "metadata": {},
     "output_type": "execute_result"
    }
   ],
   "source": [
    "P4_2_1 = 7/10 * 9/9 * 9/11 * 10/10\n",
    "P4_2_2 = 7/10 * 6/9 * 11/11 * 10/10\n",
    "P4_2_3 = 10/10 * 9/9 * 9/11 * 8/10\n",
    "P4_2 = P4_2_1 * P4_2_2 * P4_2_3\n",
    "P4_2"
   ],
   "metadata": {
    "collapsed": false,
    "pycharm": {
     "name": "#%%\n"
    }
   }
  },
  {
   "cell_type": "markdown",
   "source": [
    "#### Какова вероятность того, что хотя бы один мяч белый?\n",
    "В данном случае есть несколько комбинаций:\n",
    "- из первой корзины 1 белый и 1 обычный + 2 обычных из второй\n",
    "- из первой корзины 1 белый и 1 обычный + 1 белый и 1 обычный из второй\n",
    "- из первой корзины 1 белый и 1 обычный + 2 белых из второй\n",
    "- из первой корзины 2 белых + 2 обычных из второй\n",
    "- из первой корзины 2 белых + 1 белый и 1 обычный из второй\n",
    "- из первой корзины 2 белых + 2 белых из второй\n",
    "- из первой корзины 2 обычных + 1 белый и 1 обычный из второй\n",
    "- из первой корзины 2 обычных + 2 белых из второй"
   ],
   "metadata": {
    "collapsed": false,
    "pycharm": {
     "name": "#%% md\n"
    }
   }
  },
  {
   "cell_type": "code",
   "execution_count": 104,
   "outputs": [
    {
     "data": {
      "text/plain": "0.005354061674213869"
     },
     "execution_count": 104,
     "metadata": {},
     "output_type": "execute_result"
    }
   ],
   "source": [
    "P4_3_1 = 7/10 * 9/9 * 11/11 * 10/10\n",
    "P4_3_2 = 7/10 * 9/9 * 9/11 * 10/10\n",
    "P4_3_3 = 7/10 * 9/9 * 9/11 * 8/10\n",
    "P4_3_4 = 7/10 * 6/9 * 11/11 * 10/10\n",
    "P4_3_5 = 7/10 * 6/9 * 9/11 * 10/10\n",
    "P4_3_6 = 7/10 * 6/9 * 9/11 * 8/10\n",
    "P4_3_7 = 10/10 * 9/9 * 9/11 * 10/10\n",
    "P4_3_8 = 10/10 * 9/9 * 9/11 * 8/10\n",
    "\n",
    "P4_3 = P4_3_1 * P4_3_2 * P4_3_3 * P4_3_4 * P4_3_5 * P4_3_6 * P4_3_7 * P4_3_8\n",
    "P4_3"
   ],
   "metadata": {
    "collapsed": false,
    "pycharm": {
     "name": "#%%\n"
    }
   }
  },
  {
   "cell_type": "markdown",
   "source": [],
   "metadata": {
    "collapsed": false,
    "pycharm": {
     "name": "#%% md\n"
    }
   }
  }
 ],
 "metadata": {
  "kernelspec": {
   "display_name": "Python 3",
   "language": "python",
   "name": "python3"
  },
  "language_info": {
   "codemirror_mode": {
    "name": "ipython",
    "version": 2
   },
   "file_extension": ".py",
   "mimetype": "text/x-python",
   "name": "python",
   "nbconvert_exporter": "python",
   "pygments_lexer": "ipython2",
   "version": "2.7.6"
  }
 },
 "nbformat": 4,
 "nbformat_minor": 0
}