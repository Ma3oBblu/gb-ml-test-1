{
 "cells": [
  {
   "cell_type": "markdown",
   "source": [
    "Провести дисперсионный анализ для определения того,\n",
    "есть ли различия среднего роста среди взрослых футболистов, хоккеистов и штангистов.\n",
    "\n",
    "Даны значения роста в трех группах случайно выбранных спортсменов:\n",
    "- Футболисты: 173, 175, 180, 178, 177, 185, 183, 182.\n",
    "- Хоккеисты: 177, 179, 180, 188, 177, 172, 171, 184, 180.\n",
    "- Штангисты: 172, 173, 169, 177, 166, 180, 178, 177, 172, 166, 170."
   ],
   "metadata": {
    "collapsed": false,
    "pycharm": {
     "name": "#%% md\n"
    }
   }
  },
  {
   "cell_type": "code",
   "execution_count": 3,
   "metadata": {
    "collapsed": true
   },
   "outputs": [
    {
     "data": {
      "text/plain": "F_onewayResult(statistic=5.500053450812596, pvalue=0.010482206918698694)"
     },
     "execution_count": 3,
     "metadata": {},
     "output_type": "execute_result"
    }
   ],
   "source": [
    "import numpy as np\n",
    "from scipy import stats\n",
    "\n",
    "y1_f = np.array([173, 175, 180, 178, 177, 185, 183, 182])\n",
    "y2_h = np.array([177, 179, 180, 188, 177, 172, 171, 184, 180])\n",
    "y3_sh = np.array([172, 173, 169, 177, 166, 180, 178, 177, 172, 166, 170])\n",
    "stats.f_oneway(y1_f, y2_h, y3_sh)"
   ]
  }
 ],
 "metadata": {
  "kernelspec": {
   "display_name": "Python 3",
   "language": "python",
   "name": "python3"
  },
  "language_info": {
   "codemirror_mode": {
    "name": "ipython",
    "version": 2
   },
   "file_extension": ".py",
   "mimetype": "text/x-python",
   "name": "python",
   "nbconvert_exporter": "python",
   "pygments_lexer": "ipython2",
   "version": "2.7.6"
  }
 },
 "nbformat": 4,
 "nbformat_minor": 0
}